{
  "nbformat": 4,
  "nbformat_minor": 0,
  "metadata": {
    "kernelspec": {
      "display_name": "Python 3",
      "language": "python",
      "name": "python3"
    },
    "language_info": {
      "codemirror_mode": {
        "name": "ipython",
        "version": 3
      },
      "file_extension": ".py",
      "mimetype": "text/x-python",
      "name": "python",
      "nbconvert_exporter": "python",
      "pygments_lexer": "ipython3",
      "version": "3.7.4"
    },
    "colab": {
      "name": "PL_A1_modelo_EduardoVieira.ipynb",
      "provenance": [],
      "collapsed_sections": [
        "BZMmkF32xYEt",
        "bBO8cKayouUr"
      ],
      "toc_visible": true,
      "include_colab_link": true
    }
  },
  "cells": [
    {
      "cell_type": "markdown",
      "metadata": {
        "id": "view-in-github",
        "colab_type": "text"
      },
      "source": [
        "<a href=\"https://colab.research.google.com/github/eduardoluisvieira/mackenzie/blob/main/PL_A1_modelo_EduardoVieira.ipynb\" target=\"_parent\"><img src=\"https://colab.research.google.com/assets/colab-badge.svg\" alt=\"Open In Colab\"/></a>"
      ]
    },
    {
      "cell_type": "markdown",
      "metadata": {
        "id": "SlUTfujvouT_"
      },
      "source": [
        "<head>\n",
        "  <meta name=\"author\" content=\"Rogério de Oliveira\">\n",
        "  <meta institution=\"author\" content=\"Universidade Presbiteriana Mackenzie\">\n",
        "</head>\n",
        "\n",
        "<img src=\"http://meusite.mackenzie.br/rogerio/mackenzie_logo/UPM.2_horizontal_vermelho.jpg\" width=300, align=\"right\">\n",
        "<!-- <h1 align=left><font size = 6, style=\"color:rgb(200,0,0)\"> optional title </font></h1> -->\n"
      ]
    },
    {
      "cell_type": "markdown",
      "metadata": {
        "id": "IMu9kh4HcKB7"
      },
      "source": [
        "# Exercício de Fixação - Texto extraído do artigo da Brasil Logic Sistemas intitulado \" As decisões de modernização para a Indústria 4.0\"\n",
        "---\n",
        "\n",
        "\n",
        "\n"
      ]
    },
    {
      "cell_type": "markdown",
      "metadata": {
        "id": "I54fRjNzzTFS"
      },
      "source": [
        "Aqui, criamos um dicionário de têrmos (palavras) sobre o artigo **As decisões de modernização para a Indústria 4.0**. \n",
        "\n",
        "1. A primeira célula obtém o artigo na variável `texto`. \n",
        "2. Na segunda célula cria o dicionário de têrmos com a estrutura:\n",
        "\n",
        "```\n",
        "  mydict = { 'word1': qty, 'word2': qty, 'word3': qty, ...}\n",
        "```\n",
        "\n",
        "3. A terceira célula apresenta um gráfico de distribuição dos têrmos do seu dicionário para confirmar a lei de Zipf\n",
        "\n",
        "\n",
        "A sua tarefa pode empregar outros textos de seu interesse, inclusive em inglês e outras línguas de mesmas características (francês, alemão, espanhol etc.), e você também pode querer empregar arquivos locais. Existem inúmeros pré- tratamentos possíveis nos dados e diferentes formas de exibir os dados. Para o pré tratamento você pode incluir outras transformações para melhorar a qualidade do seu dicionário. Para exibição dos dados você pode empregar o mesmo código ou buscar uma outra forma de sua preferência."
      ]
    },
    {
      "cell_type": "markdown",
      "metadata": {
        "id": "nIfbye73nzZp"
      },
      "source": [
        "## Aquisição dos Dados"
      ]
    },
    {
      "cell_type": "code",
      "metadata": {
        "id": "6gPx3f5gzTFY"
      },
      "source": [
        "import urllib.request  \n",
        "\n",
        "texto = []\n",
        "\n",
        "#Foi colocado o arquivo no Github para facilitar a importação\n",
        "for line in urllib.request.urlopen('https://raw.githubusercontent.com/eduardoluisvieira/mackenzie/4fcbba8247f69ee66a00afffb676f11cb26441b0/DecisoesdeModernizacao.txt?token=GHSAT0AAAAAABRXNS4NJWWICSJATB6SH26GYQQHPHA'): \n",
        "    texto.append(line.decode('utf-8'))\n",
        "\n",
        "#limpeza dos caracteres não desejáveis na contabilização de termos.\n",
        "for i in range(len(texto)):\n",
        "    texto[i] = texto[i].lower() # para unicidade\n",
        "    texto[i] = texto[i].replace('\\n','')\n",
        "    texto[i] = texto[i].replace('.','')\n",
        "    texto[i] = texto[i].replace(',','')\n",
        "    texto[i] = texto[i].replace('(','')\n",
        "    texto[i] = texto[i].replace(')','')\n",
        "    texto[i] = texto[i].replace('?','')\n",
        "    texto[i] = texto[i].replace('•','')\n",
        "    texto[i] = texto[i].replace(';','')\n",
        "    texto[i] = texto[i].replace('-','')\n",
        "    texto[i] = texto[i].replace(':','')\n",
        "    texto[i] = texto[i].replace('\\'','') # elimina ' e \"\n",
        "    \n"
      ],
      "execution_count": 5,
      "outputs": []
    },
    {
      "cell_type": "markdown",
      "metadata": {
        "id": "Vw285ytjpNJ0"
      },
      "source": [
        "# Construção do Dicionário"
      ]
    },
    {
      "cell_type": "code",
      "metadata": {
        "id": "a5XxpMJe60li",
        "colab": {
          "base_uri": "https://localhost:8080/",
          "height": 0
        },
        "outputId": "2222b023-4cb5-4b3d-9bda-55d43cbeeca8"
      },
      "source": [
        "mydict = {}                             # crie um dicionário vazio\n",
        "\n",
        "for line in texto:\n",
        "\n",
        "  line = line.lower()                   # converte para lower\n",
        "  words = line.split()                  # separa cada palavra\n",
        "#  print(words)\n",
        "\n",
        "  for word in words:                      # para cada palavra em words\n",
        "    if word not in mydict.keys():         # se palavra não está no dicionário \n",
        "      mydict[word] = 1                    # acrescenta a word com o valor 1\n",
        "    else:                                 # se a entrada já existe \n",
        "      mydict[word] =  mydict[word] + 1    # apenas soma 1 ao valor já existente\n",
        "\n",
        "print(mydict)    "
      ],
      "execution_count": 6,
      "outputs": [
        {
          "output_type": "stream",
          "name": "stdout",
          "text": [
            "{'as': 13, 'decisões': 1, 'de': 73, 'modernização': 1, 'para': 27, 'a': 31, 'indústria': 7, '40': 10, 'traz': 1, 'uma': 9, 'nova': 3, 'forma': 2, 'comportamento': 1, 'das': 10, 'pessoas': 2, 'pela': 1, 'combinação': 2, 'esferas': 2, 'biológica': 1, 'física': 1, 'e': 41, 'digital': 2, 'tecnologias': 7, 'habilitadoras': 2, 'começam': 1, 'repaginar': 1, 'toda': 1, 'cadeia': 5, 'produtiva': 1, 'com': 16, 'base': 1, 'em': 18, 'dinâmica': 2, 'consumo': 4, 'novos': 1, 'desafios': 2, 'manufatura': 1, 'que': 21, 'passa': 1, 'ser': 5, 'demandada': 1, 'por': 6, 'mais': 7, 'flexibilidade': 1, 'customização': 1, 'dos': 7, 'produtos': 1, 'acordo': 2, 'o': 16, 'idc': 1, 'melhor': 2, 'estrutura': 2, 'análise': 3, 'dados': 5, 'beneficiada': 1, 'uso': 6, 'dessas': 1, 'impactaram': 1, 'melhoria': 1, '20%': 1, 'no': 6, 'lucro': 1, '16%': 2, 'na': 12, 'eficiência': 1, 'operacional': 1, 'é': 8, 'um': 5, 'processo': 1, 'sem': 4, 'volta': 1, 'mas': 4, 'isso': 2, 'não': 7, 'significa': 1, 'sua': 1, 'adoção': 1, 'rápida': 1, 'fácil': 1, 'compreensão': 1, 'benefícios': 1, 'relativamente': 1, 'clara': 2, 'inserila': 1, 'contexto': 2, 'cada': 2, 'verdadeiro': 1, 'desafio': 3, 'atual': 1, 'estudo': 1, 'realizado': 1, 'pelo': 1, 'cni': 1, '2018': 1, 'empresas': 5, 'brasileiras': 1, 'foram': 1, 'classificadas': 1, 'quatro': 1, 'gerações': 1, 'sendo': 1, 'geração': 7, '1': 2, '–': 9, 'produção': 10, 'rígida': 1, 'digitais': 4, 'função': 1, 'específica': 1, 'pontual': 1, 'cad': 1, '2': 2, 'enxuta': 1, 'automação': 2, 'flexível': 1, 'ou': 7, 'semiflexível': 1, 'integração': 6, 'parcial': 1, 'entre': 2, 'áreas': 2, 'cadcam': 1, '3': 2, 'integrada': 2, 'conexão': 1, 'todas': 1, 'funções': 1, 'empresariais': 1, 'sistema': 1, 'apoio': 4, 'suporte': 2, 'vendas': 1, 'baseado': 1, 'internet': 1, '4': 1, 'conectada': 1, 'inteligente': 1, 'retroalimentação': 1, 'informações': 2, 'operação': 1, 'apoiar': 1, 'processos': 1, 'decisão': 2, 'gestão': 4, 'negócios': 1, 'big': 1, 'data': 1, 'inteligência': 1, 'artificial': 1, 'ainda': 2, 'pesquisa': 1, '2017': 1, '756%': 1, 'estão': 5, '228%': 1, 'apenas': 3, 'avançada': 1, 'da': 9, 'extrapola': 1, 'os': 9, 'limites': 1, 'linhas': 2, 'estendese': 1, 'completa': 1, 'fornecedores': 3, 'até': 1, 'clientes': 2, 'ecossistema': 2, 'multidisciplinar': 2, 'engloba': 1, 'do': 9, 'lado': 1, 'vemos': 1, 'diversas': 2, 'soluções': 4, 'como': 8, 'automática': 1, 'controle': 5, 'abastecimento': 1, 'insumos': 1, 'planos': 1, 'remoto': 1, 'locação': 1, 'equipamentos': 2, 'fabricantes': 1, 'máquinas': 1, 'outsourcing': 1, 'ti': 1, 'ta': 1, 'outra': 1, 'ponta': 2, 'contato': 1, 'cliente': 2, 'há': 1, 'distintas': 1, 'dependendo': 1, 'empresa': 1, 'está': 3, 'inserida': 1, 'b2b': 1, 'b2c': 2, 'exemplo': 1, 'relação': 2, 'promove': 1, 'alterações': 1, 'relacionamento': 2, 'tradicional': 1, 'indústriadistribuidorvarejoconsumidor': 1, 'experimentando': 1, 'variantes': 1, 'indústriavarejo': 1, 'indústriaconsumidor': 1, 'apoiando': 1, 'essas': 2, 'novas': 5, 'formas': 1, 'iot': 1, 'lojas': 1, 'câmeras': 1, 'inteligentes': 1, 'diversos': 2, 'sensores': 1, 'conseguem': 1, 'coletar': 1, 'interpretar': 1, 'preferências': 1, 'extrair': 2, 'inúmeros': 2, 'indicadores': 3, 'contribuem': 1, 'venda': 1, 'otimizada': 1, 'direcionada': 1, 'multicanalidade': 1, 'canais': 1, 'offline/online': 1, 'preservam': 1, 'experiência': 2, 'também': 1, 'abrem': 1, 'opções': 1, 'comunicação': 2, 'coleta': 1, 'inferem': 1, 'entendimento': 1, 'voltando': 1, 'nossa': 1, 'atenção': 1, 'limite': 1, 'fábricas': 1, 'dentro': 2, 'temos': 1, 'acelerar': 1, 'possíveis': 1, 'integrações': 4, 'acontecem': 1, 'quê': 1, 'massiva': 1, 'maioria': 1, 'existem': 1, 'antes': 1, 'preparadas': 1, 'grandes': 1, 'mudanças': 1, 'cultura': 1, 'tecnologia': 2, 'impostas': 1, 'essa': 2, 'revolução': 1, 'fábrica': 1, 'brasil': 1, 'explicado': 1, 'anteriormente': 1, 'tem': 4, 'dois': 1, 'terços': 1, 'indústrias': 1, 'pouco': 1, 'integradas': 2, 'silos': 1, 'papéis': 1, 'planilhas': 1, 'fazendo': 1, 'sistemas': 12, 'bastante': 1, 'energia': 1, 'usada': 1, 'gerar': 1, 'limitase': 1, 'tempo': 1, 'real': 2, 'valor': 2, 'desses': 1, 'diminui': 1, 'significativamente': 1, 'capacidade': 1, 'resposta': 1, 'frente': 1, 'aos': 2, 'problemas': 1, 'resultado': 1, 'são': 3, 'gestores': 1, 'sobrecarregados': 1, 'cobranças': 1, 'excessivas': 1, 'informação': 1, 'consistente': 2, 'pressionada': 1, 'reduzir': 1, 'paradas': 2, 'alto': 5, 'nível': 1, 'desgaste': 1, 'nas': 1, 'preparações': 1, 'auditorias': 1, 'dificuldade': 1, 'investigação': 1, 'desvios': 1, 'qualidade': 2, 'carência': 1, 'falta': 1, 'saúde': 1, 'ativos': 1, 'risco': 2, 'interrupção': 1, 'continuidade': 4, 'negócio': 5, 'operar': 1, 'obsoletos': 1, 'migração': 2, 'adequação': 1, 'ao': 2, 'analisar': 1, 'produtivas': 1, 'inserção': 1, 'mínimo': 1, 'três': 1, 'cenários': 1, 'podem': 4, 'surgir': 1, 'antigos': 2, 'isolados': 1, 'permitem': 1, 'modernos': 5, 'precisam': 1, 'adequações': 1, 'serem': 1, 'camadas': 1, 'apta': 1, 'impõe': 1, 'custo': 1, 'manutenção': 3, 'imobilidade': 1, 'nada': 1, 'pode': 2, 'feito': 1, 'modernizado': 1, 'operase': 1, 'longas': 1, 'caso': 2, 'falha': 1, 'nos': 1, 'estratégia': 3, 'ganha': 1, 'força': 1, 'trazer': 4, 'tema': 2, 'mesa': 1, 'alinhada': 2, 'investimento': 3, 'capital': 1, 'continuar': 1, 'operando': 1, 'chegará': 1, 'cedo': 1, 'tarde': 1, 'embora': 1, 'ciclos': 1, 'evitem': 1, 'muitos': 1, 'casos': 1, 'abordar': 1, 'problema': 2, 'iminente': 1, 'nesse': 1, 'importante': 1, 'parceiros': 2, 'tenham': 1, 'obsoleta': 1, 'ajudem': 1, 'traçar': 1, 'caminho': 1, 'seguro': 1, 'etapas': 1, 'atualização': 1, 'deve': 1, 'apresentado': 1, 'executado': 1, 'maneira': 1, 'fim': 1, 'menores': 1, 'impactos': 1, 'intervalo': 1, 'produtivo': 1, 'substituição': 1, 'será': 1, 'menor': 1, 'monta': 1, 'ponto': 2, 'vista': 2, 'tecnológico': 1, 'necessariamente': 1, 'portanto': 1, 'extrema': 1, 'importância': 1, 'costurar': 1, 'muito': 1, 'bem': 1, 'dorsoluçãobenefício': 1, 'justificar': 1, 'existir': 1, 'recentemente': 1, 'instalados': 1, 'ciclo': 1, 'roi': 1, 'rodada': 1, 'maior': 1, 'nessa': 1, 'situação': 1, 'questão': 1, 'escassez': 1, 'peças': 1, 'custos': 1, 'sim': 1, 'esses': 1, 'possuem': 1, 'se': 1, 'corretamente': 1, 'tratados': 1, 'além': 1, 'disso': 1, 'cenário': 1, 'exige': 1, 'condução': 1, 'engenharia': 1, 'patrocinador': 1, 'financeiro': 1, 'especializados': 1, 'tracionar': 1, 'iniciativas': 1, 'transformar': 1, 'projeto': 1, 'piloto': 1, 'roll': 1, 'out': 1, 'demais': 1, 'muitas': 1, 'vezes': 1, 'departamentos': 1, 'buscam': 1, 'isoladas': 1, 'respondem': 2, 'partes': 1, 'redundantes': 1, 'incompatíveis': 1, 'probabilidade': 1, 'futura': 1, 'projetos': 1, 'pilotos': 1, 'já': 1, 'nascem': 1, 'mortos': 1, 'fundamentada': 1, 'demandas': 1, 'temporárias': 1, 'orquestrar': 1, 'participante': 1, 'perder': 1, 'foco': 1, 'dor': 1, 'resolvida': 1, 'destacado': 1, 'sucesso': 1, 'transformação': 1}\n"
          ]
        }
      ]
    },
    {
      "cell_type": "markdown",
      "metadata": {
        "id": "s44VMljhpSLK"
      },
      "source": [
        "# Exibição dos Resultados"
      ]
    },
    {
      "cell_type": "code",
      "metadata": {
        "id": "zMy6IqwC9GJt",
        "colab": {
          "base_uri": "https://localhost:8080/",
          "height": 407
        },
        "outputId": "710012e7-ef2c-461f-e0e0-0c466bea5bea"
      },
      "source": [
        "import pandas as pd\n",
        "import seaborn as sns\n",
        "import matplotlib as mpl\n",
        "import matplotlib.pyplot as plt\n",
        "\n",
        "df = pd.DataFrame(mydict.items(),  columns=['word', 'count']).sort_values('count',ascending=False)\n",
        "df = df[df['count'] > 4] # somente termos com mais de 4 ocorrências\n",
        "# df = df.iloc[ np.int(len(df)/2) - 10 : np.int(len(df)/2) + 10 ] # para livros ou textos com muitos termos limita a um número mínimo de termos\n",
        "\n",
        "plt.figure(figsize=(24,10))\n",
        "mpl.style.use(['seaborn'])\n",
        "sns.barplot(x=df.word,y=df['count'])\n",
        "plt.xticks(rotation=90) \n",
        "\n",
        "plt.show()"
      ],
      "execution_count": 7,
      "outputs": [
        {
          "output_type": "display_data",
          "data": {
            "image/png": "[encoded data removed]",
            "text/plain": [
              "<Figure size 1728x720 with 1 Axes>"
            ]
          },
          "metadata": {}
        }
      ]
    },
    {
      "cell_type": "markdown",
      "source": [
        "Nota-se a a lei de Zipf pode ser evidenciada pela proporção da frequência entre o primeiro e o segundo termo.\n",
        "O texto pode ser melhor filtrado, empregando a limpeza de preposições que claramente obtiveram uma alta frequência.\n",
        "Nesse exercício, incluí a limpeza de alguns caracteres, como: \";\",\"-\",\"•\"."
      ],
      "metadata": {
        "id": "Icps1Q5NeGls"
      }
    }
  ]
}